{
 "cells": [
  {
   "cell_type": "markdown",
   "metadata": {},
   "source": [
    "# Loading Matrix Market single-cell RNA data into TileDB\n",
    "\n",
    "Data files are assumed to be in the same directory as this repository, the three needed files are available on Synapse: https://www.synapse.org/#!Synapse:syn22150189\n",
    "\n",
    "[Matrix Market](https://math.nist.gov/MatrixMarket/formats.html) is a text format (usually with the extension `.mtx`) that describes the sparse cell by gene expression matrix, and has entries only for the nonzero values. The other barcodes and features text files describe the cell UMIs and gene IDs, respectively."
   ]
  },
  {
   "cell_type": "code",
   "execution_count": 18,
   "metadata": {},
   "outputs": [],
   "source": [
    "import gzip\n",
    "import itertools\n",
    "from pathlib import Path\n",
    "\n",
    "import tiledb"
   ]
  },
  {
   "cell_type": "markdown",
   "metadata": {},
   "source": [
    "The rows of the `.mtx` file contain the coordinates and values for nonzero entries in the cell by gene matrix. The first column is the feature (gene) index, the second column is the cell barcode index, and the last column is the read count. The counts for the first row is very high, but that makes sense because it corresponds to the PhiX spike-in control."
   ]
  },
  {
   "cell_type": "code",
   "execution_count": 9,
   "metadata": {},
   "outputs": [
    {
     "output_type": "stream",
     "name": "stdout",
     "text": "%%MatrixMarket matrix coordinate integer general\n\n%metadata_json: {\"format_version\": 2, \"software_version\": \"3.1.0\"}\n\n55633 7202 29247318\n\n53809 1 21\n\n53264 1 1\n\n53259 1 2\n\n52877 1 1\n\n"
    }
   ],
   "source": [
    "with gzip.open(\"matrix.mtx.gz\", \"rt\") as f:\n",
    "    for i, line in enumerate(f):\n",
    "        print(line)\n",
    "        if i > 5:\n",
    "            break"
   ]
  },
  {
   "cell_type": "markdown",
   "metadata": {},
   "source": [
    "We can see that the features have extra metadata about the genes that would be unsuitable to store within the matrix."
   ]
  },
  {
   "cell_type": "code",
   "execution_count": 7,
   "metadata": {},
   "outputs": [
    {
     "output_type": "stream",
     "name": "stdout",
     "text": "ENSMUSG00000102693.1\t4933401J01Rik\tGene Expression\n\nENSMUSG00000064842.1\tGm26206\tGene Expression\n\nENSMUSG00000051951.5\tXkr4\tGene Expression\n\nENSMUSG00000102851.1\tGm18956\tGene Expression\n\nENSMUSG00000103377.1\tGm37180\tGene Expression\n\nENSMUSG00000104017.1\tGm37363\tGene Expression\n\nENSMUSG00000103025.1\tGm37686\tGene Expression\n\n"
    }
   ],
   "source": [
    "with gzip.open(\"features.tsv.gz\", \"rt\") as f:\n",
    "    for i, line in enumerate(f):\n",
    "        print(line)\n",
    "        if i > 5:\n",
    "            break"
   ]
  },
  {
   "cell_type": "markdown",
   "metadata": {},
   "source": [
    "Here we can see that the barcodes file contains all of the cell UMIs."
   ]
  },
  {
   "cell_type": "code",
   "execution_count": 6,
   "metadata": {},
   "outputs": [
    {
     "output_type": "stream",
     "name": "stdout",
     "text": "AAACCTGAGAGTCGGT-1\n\nAAACCTGAGTCGTACT-1\n\nAAACCTGAGTGGTCCC-1\n\nAAACCTGCAATGGACG-1\n\nAAACCTGCACAGTCGC-1\n\nAAACCTGCAGCTGTTA-1\n\nAAACCTGCAGTCAGCC-1\n\n"
    }
   ],
   "source": [
    "with gzip.open(\"barcodes.tsv.gz\", \"rt\") as f:\n",
    "    for i, line in enumerate(f):\n",
    "        print(line)\n",
    "        if i > 5:\n",
    "            break"
   ]
  },
  {
   "cell_type": "markdown",
   "metadata": {},
   "source": [
    "Now we can begin to look at loading the data into TileDB. The feature and barcode matrices are small enough to load into memory, in this case it is also feasible with the `.mtx` but we will use a streaming approach instead."
   ]
  },
  {
   "cell_type": "code",
   "execution_count": 15,
   "metadata": {},
   "outputs": [
    {
     "output_type": "stream",
     "name": "stdout",
     "text": "TTTGTCATCGTTACGA-1\n\ngSpikein_phiX174\tgSpikein_phiX174\tGene Expression\n\n"
    }
   ],
   "source": [
    "with gzip.open(\"barcodes.tsv.gz\", \"rt\") as f:\n",
    "    barcodes = f.readlines()\n",
    "\n",
    "with gzip.open(\"features.tsv.gz\", \"rt\") as f:\n",
    "    features = f.readlines()\n",
    "\n",
    "num_barcodes = len(barcodes)\n",
    "num_features = len(features)\n",
    "\n",
    "print(barcodes[-1])\n",
    "print(features[-1])"
   ]
  },
  {
   "cell_type": "markdown",
   "metadata": {},
   "source": [
    "The approach here is very similar to the other notebook. We create a 2-D sparse array to hold the integer expression values, where the rows are cells and the columns are genes. The way we lay out the tile extents here is optimized for selecting expression values for all cells across small numbers of genes, this is tweakable by changing the `tile` parameter to `tileDb.Dim`. The choice of using `np.uint32` for the counts is to accomodate the very large count for the spikein, it would not fit into a 16-bit unsigned int.\n",
    "\n",
    "One thing we would like to do is batch the writes to the array for performance. We can read many rows of the input `.mtx` at a time, generate the lists for the x and y coordinates and the counts we need to set, and then write them. Note that the `.mtx` uses 1-based indexing while TileDB expects 0-based indices, so we will need to convert."
   ]
  },
  {
   "cell_type": "code",
   "execution_count": null,
   "metadata": {},
   "outputs": [],
   "source": [
    "def chunks(iterable, chunk_size):\n",
    "    \"\"\"\n",
    "    See https://stackoverflow.com/a/8998040\n",
    "    \"\"\"\n",
    "    it = iter(iterable)\n",
    "    while True:\n",
    "        chunk_it = itertools.islice(it, chunk_size)\n",
    "        try:\n",
    "            first_el = next(chunk_it)\n",
    "        except StopIteration:\n",
    "            return\n",
    "        yield itertools.chain((first_el,), chunk_it)\n",
    "\n",
    "group_name = \"sc-matrix\"\n",
    "group_path = Path(group_name)\n",
    "\n",
    "if not group_path.exists():\n",
    "    tiledb.group_create(group_name)\n",
    "\n",
    "counts_array_path = group_path / \"sc-matrix-counts\"\n",
    "if not counts_array_path.exists():\n",
    "    dom = tiledb.Domain(\n",
    "        tiledb.Dim(name=\"cells\", domain=(0, num_barcodes - 1), tile=num_barcodes, dtype=np.uint32),\n",
    "        tiledb.Dim(name=\"genes\", domain=(0, num_features - 1), tile=2, dtype=np.uint32),\n",
    "    )\n",
    "    schema = tiledb.ArraySchema(\n",
    "        domain=dom,\n",
    "        sparse=True,\n",
    "        attrs=(tiledb.Attr(name=\"counts\", dtype=np.uint32,),)\n",
    "    )\n",
    "    tiledb.SparseArray.create(str(counts_array_path), schema)\n",
    "    with tiledb.SparseArray(str(counts_array_path), mode='w') as A:\n",
    "        with gzip.open(\"features.tsv.gz\", \"rt\") as f:\n",
    "            for chunk in chunks(f):\n",
    "                x, y = np.nonzero(adata.X)\n",
    "                A[x, y] = {\"counts\": adata.X.toarray()[np.nonzero(adata.X)].astype(np.uint16)}"
   ]
  },
  {
   "cell_type": "code",
   "execution_count": 16,
   "metadata": {},
   "outputs": [
    {
     "output_type": "execute_result",
     "data": {
      "text/plain": "7202"
     },
     "metadata": {},
     "execution_count": 16
    }
   ],
   "source": [
    "num_barcodes"
   ]
  },
  {
   "cell_type": "code",
   "execution_count": null,
   "metadata": {},
   "outputs": [],
   "source": []
  }
 ],
 "metadata": {
  "language_info": {
   "codemirror_mode": {
    "name": "ipython",
    "version": 3
   },
   "file_extension": ".py",
   "mimetype": "text/x-python",
   "name": "python",
   "nbconvert_exporter": "python",
   "pygments_lexer": "ipython3",
   "version": "3.8.2-final"
  },
  "orig_nbformat": 2,
  "kernelspec": {
   "name": "python38264bit2bbddf0a0ebd4c42b841c767f713aa3a",
   "display_name": "Python 3.8.2 64-bit"
  }
 },
 "nbformat": 4,
 "nbformat_minor": 2
}