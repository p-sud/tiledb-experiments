{
 "nbformat": 4,
 "nbformat_minor": 2,
 "metadata": {
  "language_info": {
   "name": "python",
   "codemirror_mode": {
    "name": "ipython",
    "version": 3
   },
   "version": "3.8.2-final"
  },
  "orig_nbformat": 2,
  "file_extension": ".py",
  "mimetype": "text/x-python",
  "name": "python",
  "npconvert_exporter": "python",
  "pygments_lexer": "ipython3",
  "version": 3,
  "kernelspec": {
   "name": "python38264bit2bbddf0a0ebd4c42b841c767f713aa3a",
   "display_name": "Python 3.8.2 64-bit"
  }
 },
 "cells": [
  {
   "cell_type": "markdown",
   "metadata": {},
   "source": [
    "# Storing, retreiving, and processing single cell RNA-seq data with TileDB\n",
    "\n",
    "In this notebook we will attempt to store single cell data in TileDB. We will use 3k PBMCs scRNA-seq data from 10x. Code for downloading and loading data into Anndata format is adapted from https://scanpy-tutorials.readthedocs.io/en/latest/pbmc3k.html ."
   ]
  },
  {
   "cell_type": "code",
   "execution_count": 1,
   "metadata": {},
   "outputs": [],
   "source": [
    "from pathlib import Path\n",
    "import tempfile\n",
    "\n",
    "import numpy as np\n",
    "import pandas as pd\n",
    "import scanpy as sc\n",
    "import tiledb"
   ]
  },
  {
   "cell_type": "markdown",
   "metadata": {},
   "source": [
    "Now we can get the data. Uncomment the two lines in the cell below to download the data."
   ]
  },
  {
   "cell_type": "code",
   "execution_count": 2,
   "metadata": {},
   "outputs": [],
   "source": [
    "#!wget http://cf.10xgenomics.com/samples/cell-exp/1.1.0/pbmc3k/pbmc3k_filtered_gene_bc_matrices.tar.gz\n",
    "#!tar -xzf pbmc3k_filtered_gene_bc_matrices.tar.gz"
   ]
  },
  {
   "cell_type": "code",
   "execution_count": 2,
   "metadata": {},
   "outputs": [],
   "source": [
    "adata = sc.read_10x_mtx(\n",
    "    './filtered_gene_bc_matrices/hg19/',  # the directory with the `.mtx` file\n",
    "    var_names='gene_symbols',                  # use gene symbols for the variable names (variables-axis index)\n",
    ")    "
   ]
  },
  {
   "cell_type": "markdown",
   "metadata": {},
   "source": [
    "Here's a peek into the `AnnData` object. Some of the attributes are for convenience, some of them are specific to AnnData internals, and others actually hold the data. `AnnData` documentation is here: https://icb-anndata.readthedocs-hosted.com/en/stable/anndata.AnnData.html\n",
    "\n",
    "Here are the more important ones. `adata.X` contains the expression values, and has cells (obs) rows by genes (var) columns. We can obtain a dense numpy array representation of the sparse data by calling `adata.X.toarray()`"
   ]
  },
  {
   "cell_type": "code",
   "execution_count": 3,
   "metadata": {},
   "outputs": [
    {
     "output_type": "execute_result",
     "data": {
      "text/plain": "<2700x32738 sparse matrix of type '<class 'numpy.float32'>'\n\twith 2286884 stored elements in Compressed Sparse Row format>"
     },
     "metadata": {},
     "execution_count": 3
    }
   ],
   "source": [
    "adata.X"
   ]
  },
  {
   "cell_type": "markdown",
   "metadata": {},
   "source": [
    "Note that `adata.X` is a very sparse array."
   ]
  },
  {
   "cell_type": "code",
   "execution_count": 4,
   "metadata": {},
   "outputs": [
    {
     "output_type": "stream",
     "name": "stdout",
     "text": "First row is 97.61% empty\n"
    },
    {
     "output_type": "execute_result",
     "data": {
      "text/plain": "array([[0., 0., 0., ..., 0., 0., 0.]], dtype=float32)"
     },
     "metadata": {},
     "execution_count": 4
    }
   ],
   "source": [
    "print(f\"First row is {1 - (np.count_nonzero(adata.X[0].toarray()) / adata.X[0].shape[1]):.2%} empty\")\n",
    "adata.X[0].toarray()"
   ]
  },
  {
   "cell_type": "markdown",
   "metadata": {},
   "source": [
    " `adata.obs` contains the cell barcodes, same number of barcodes as rows of `adata.X`. These are in a 0-column `pandas` `DataFrame`, of which the barcodes form the index. This is presumably done so that things like cluster labels can be added in after analysis. This index can be conveniently accessed with `adata.obs_names`"
   ]
  },
  {
   "cell_type": "code",
   "execution_count": 5,
   "metadata": {},
   "outputs": [
    {
     "output_type": "execute_result",
     "data": {
      "text/plain": "Empty DataFrame\nColumns: []\nIndex: [AAACATACAACCAC-1, AAACATTGAGCTAC-1, AAACATTGATCAGC-1, AAACCGTGCTTCCG-1, AAACCGTGTATGCG-1, AAACGCACTGGTAC-1, AAACGCTGACCAGT-1, AAACGCTGGTTCTT-1, AAACGCTGTAGCCA-1, AAACGCTGTTTCTG-1, AAACTTGAAAAACG-1, AAACTTGATCCAGA-1, AAAGAGACGAGATA-1, AAAGAGACGCGAGA-1, AAAGAGACGGACTT-1, AAAGAGACGGCATT-1, AAAGATCTGGGCAA-1, AAAGCAGAAGCCAT-1, AAAGCAGATATCGG-1, AAAGCCTGTATGCG-1, AAAGGCCTGTCTAG-1, AAAGTTTGATCACG-1, AAAGTTTGGGGTGA-1, AAAGTTTGTAGAGA-1, AAAGTTTGTAGCGT-1, AAATCAACAATGCC-1, AAATCAACACCAGT-1, AAATCAACCAGGAG-1, AAATCAACCCTATT-1, AAATCAACGGAAGC-1, AAATCAACTCGCAA-1, AAATCATGACCACA-1, AAATCCCTCCACAA-1, AAATCCCTGCTATG-1, AAATGTTGAACGAA-1, AAATGTTGCCACAA-1, AAATGTTGTGGCAT-1, AAATTCGAAGGTTC-1, AAATTCGAATCACG-1, AAATTCGAGCTGAT-1, AAATTCGAGGAGTG-1, AAATTCGATTCTCA-1, AAATTGACACGACT-1, AAATTGACTCGCTC-1, AACAAACTCATTTC-1, AACAAACTTTCGTT-1, AACAATACGACGAG-1, AACACGTGCAGAGG-1, AACACGTGGAAAGT-1, AACACGTGGAACCT-1, AACACGTGGCTACA-1, AACACGTGTACGAC-1, AACAGCACAAGAGT-1, AACATTGATGGGAG-1, AACCAGTGATACCG-1, AACCCAGATCGCTC-1, AACCGATGCTCCCA-1, AACCGATGGTCATG-1, AACCGATGTTCTAC-1, AACCGCCTAGCGTT-1, AACCGCCTCTACGA-1, AACCTACTGTGAGG-1, AACCTACTGTGTTG-1, AACCTTACGAGACG-1, AACCTTACGCGAGA-1, AACCTTACTAACGC-1, AACCTTTGGACGGA-1, AACCTTTGTACGCA-1, AACGCAACAAGTAG-1, AACGCATGACCCAA-1, AACGCATGCCTTCG-1, AACGCATGTACTTC-1, AACGCCCTCGGGAA-1, AACGCCCTCGTACA-1, AACGCCCTGCTTAG-1, AACGCCCTGGCATT-1, AACGTCGAGTATCG-1, AACGTGTGAAAGCA-1, AACGTGTGGCGGAA-1, AACGTGTGTCCAAG-1, AACGTGTGTGCTTT-1, AACTACCTTAGAGA-1, AACTCACTCAAGCT-1, AACTCACTTGGAGG-1, AACTCGGAAAGTGA-1, AACTCGGAAGGTCT-1, AACTCTTGCAGGAG-1, AACTGTCTCCCTTG-1, AACTTGCTACGCTA-1, AACTTGCTGGGACA-1, AAGAACGAGTGTTG-1, AAGAAGACGTAGGG-1, AAGACAGAAGTCTG-1, AAGACAGAGGATCT-1, AAGACAGATTACCT-1, AAGAGATGGGTAGG-1, AAGATGGAAAACAG-1, AAGATGGAGAACTC-1, AAGATGGAGATAAG-1, AAGATTACAACCTG-1, ...]\n\n[2700 rows x 0 columns]",
      "text/html": "<div>\n<style scoped>\n    .dataframe tbody tr th:only-of-type {\n        vertical-align: middle;\n    }\n\n    .dataframe tbody tr th {\n        vertical-align: top;\n    }\n\n    .dataframe thead th {\n        text-align: right;\n    }\n</style>\n<table border=\"1\" class=\"dataframe\">\n  <thead>\n    <tr style=\"text-align: right;\">\n      <th></th>\n    </tr>\n  </thead>\n  <tbody>\n    <tr>\n      <th>AAACATACAACCAC-1</th>\n    </tr>\n    <tr>\n      <th>AAACATTGAGCTAC-1</th>\n    </tr>\n    <tr>\n      <th>AAACATTGATCAGC-1</th>\n    </tr>\n    <tr>\n      <th>AAACCGTGCTTCCG-1</th>\n    </tr>\n    <tr>\n      <th>AAACCGTGTATGCG-1</th>\n    </tr>\n    <tr>\n      <th>...</th>\n    </tr>\n    <tr>\n      <th>TTTCGAACTCTCAT-1</th>\n    </tr>\n    <tr>\n      <th>TTTCTACTGAGGCA-1</th>\n    </tr>\n    <tr>\n      <th>TTTCTACTTCCTCG-1</th>\n    </tr>\n    <tr>\n      <th>TTTGCATGAGAGGC-1</th>\n    </tr>\n    <tr>\n      <th>TTTGCATGCCTCAC-1</th>\n    </tr>\n  </tbody>\n</table>\n<p>2700 rows × 0 columns</p>\n</div>"
     },
     "metadata": {},
     "execution_count": 5
    }
   ],
   "source": [
    "adata.obs"
   ]
  },
  {
   "cell_type": "markdown",
   "metadata": {},
   "source": [
    "`adata.var` contains the gene names and Ensembl IDs, same as the number of columns of `adata.X`. In `AnnData` these are stored in a 1-column `pandas` `DataFrame`. The gene name is used as the `DataFrame` index and the Ensembl IDs are the values."
   ]
  },
  {
   "cell_type": "code",
   "execution_count": 6,
   "metadata": {},
   "outputs": [
    {
     "output_type": "execute_result",
     "data": {
      "text/plain": "                     gene_ids\nMIR1302-10    ENSG00000243485\nFAM138A       ENSG00000237613\nOR4F5         ENSG00000186092\nRP11-34P13.7  ENSG00000238009\nRP11-34P13.8  ENSG00000239945\n...                       ...\nAC145205.1    ENSG00000215635\nBAGE5         ENSG00000268590\nCU459201.1    ENSG00000251180\nAC002321.2    ENSG00000215616\nAC002321.1    ENSG00000215611\n\n[32738 rows x 1 columns]",
      "text/html": "<div>\n<style scoped>\n    .dataframe tbody tr th:only-of-type {\n        vertical-align: middle;\n    }\n\n    .dataframe tbody tr th {\n        vertical-align: top;\n    }\n\n    .dataframe thead th {\n        text-align: right;\n    }\n</style>\n<table border=\"1\" class=\"dataframe\">\n  <thead>\n    <tr style=\"text-align: right;\">\n      <th></th>\n      <th>gene_ids</th>\n    </tr>\n  </thead>\n  <tbody>\n    <tr>\n      <th>MIR1302-10</th>\n      <td>ENSG00000243485</td>\n    </tr>\n    <tr>\n      <th>FAM138A</th>\n      <td>ENSG00000237613</td>\n    </tr>\n    <tr>\n      <th>OR4F5</th>\n      <td>ENSG00000186092</td>\n    </tr>\n    <tr>\n      <th>RP11-34P13.7</th>\n      <td>ENSG00000238009</td>\n    </tr>\n    <tr>\n      <th>RP11-34P13.8</th>\n      <td>ENSG00000239945</td>\n    </tr>\n    <tr>\n      <th>...</th>\n      <td>...</td>\n    </tr>\n    <tr>\n      <th>AC145205.1</th>\n      <td>ENSG00000215635</td>\n    </tr>\n    <tr>\n      <th>BAGE5</th>\n      <td>ENSG00000268590</td>\n    </tr>\n    <tr>\n      <th>CU459201.1</th>\n      <td>ENSG00000251180</td>\n    </tr>\n    <tr>\n      <th>AC002321.2</th>\n      <td>ENSG00000215616</td>\n    </tr>\n    <tr>\n      <th>AC002321.1</th>\n      <td>ENSG00000215611</td>\n    </tr>\n  </tbody>\n</table>\n<p>32738 rows × 1 columns</p>\n</div>"
     },
     "metadata": {},
     "execution_count": 6
    }
   ],
   "source": [
    "adata.var"
   ]
  },
  {
   "cell_type": "markdown",
   "metadata": {},
   "source": [
    "Now we have some idea of what we need to store in TileDB. We want to store the expression values in a cell by gene dense matrix. We need at the minimum two pieces of metadata for each expression value: the gene name or ID, and the cell barcode. Even though the matrix is mathematically sparse, if we used a `tiledb.SparseMatrix` it would be more difficult materialize gene and cell information for missing values.\n",
    "\n",
    "The tile extents are \"optimized\" for random access of a subset of genes across all cells. Note that the tile extent of the cell dimension spans all of the cells, while the tile extent of the gene dimension is very small, so we can pluck out data for individual genes fairly efficiently.\n",
    "\n",
    "We pull the array dimensions from the `AnnData` object. In TileDB terminology domain is inclusive of endpoints. We swap out the attribute dtype for the counts from `adata.X` from `np.float32` to `np.uint16`. Using a float doesn't make sense for the counts, which are strictly non-negative and integer valued. In order to write the data, we need gather all of the attributes together, i.e. for each count value we want to write, we need to gather the appropriate gene name, gene ID, and barcode.\n",
    "\n",
    "We must specify the attributes in the dict in the same order as they are defined in the schema, this seems to be a bug in the TileDB Python API: https://github.com/TileDB-Inc/TileDB-Py/issues/299"
   ]
  },
  {
   "cell_type": "code",
   "execution_count": 4,
   "metadata": {},
   "outputs": [],
   "source": [
    "array_name = \"3k_pbmc_array\"\n",
    "array_path = Path(array_name)\n",
    "if not array_path.exists():\n",
    "    tiledb.DenseArray.create(array_name, schema)\n",
    "    dom = tiledb.Domain(\n",
    "        tiledb.Dim(name=\"cells\", domain=(0, adata.X.shape[0] - 1), tile=adata.X.shape[0], dtype=np.uint32),\n",
    "        tiledb.Dim(name=\"genes\", domain=(0, adata.X.shape[1] - 1), tile=2, dtype=np.uint32),\n",
    "    )\n",
    "    schema = tiledb.ArraySchema(\n",
    "        domain=dom,\n",
    "        sparse=False,\n",
    "        attrs=(\n",
    "            tiledb.Attr(name=\"counts\", dtype=np.uint16, var=False),\n",
    "            tiledb.Attr(name=\"cell_barcode\", dtype=np.bytes_, var=True),\n",
    "            tiledb.Attr(name=\"gene_name\", dtype=np.bytes_, var=True),\n",
    "            tiledb.Attr(name=\"gene_ensembl_id\", dtype=np.bytes_, var=True)\n",
    "        )\n",
    "    )\n",
    "    with tiledb.DenseArray(array_name, mode='w') as A:\n",
    "        to_write = {\n",
    "            \"counts\": adata.X.toarray().astype(np.uint16),\n",
    "            \"cell_barcode\": np.tile(np.array(adata.obs_names, dtype=bytes), (adata.X.shape[1], 1)).T,\n",
    "            \"gene_name\": np.tile(np.array(adata.var_names.values, dtype=bytes), (adata.X.shape[0],1)),\n",
    "            \"gene_ensembl_id\": np.tile(np.array(adata.var.values.T, dtype=bytes), (adata.X.shape[0],1)),\n",
    "        }\n",
    "        A[:,:] = to_write"
   ]
  },
  {
   "cell_type": "markdown",
   "metadata": {},
   "source": [
    "Now that's we've created the array, we can subset it relatively quickly by gene. Remember that each column of the array represents one gene."
   ]
  },
  {
   "cell_type": "code",
   "execution_count": 5,
   "metadata": {},
   "outputs": [
    {
     "output_type": "stream",
     "name": "stdout",
     "text": "OrderedDict([('counts', array([0, 0, 0, ..., 0, 0, 0], dtype=uint16)), ('cell_barcode', array([b'AAACATACAACCAC-1', b'AAACATTGAGCTAC-1', b'AAACATTGATCAGC-1', ...,\n       b'TTTCTACTTCCTCG-1', b'TTTGCATGAGAGGC-1', b'TTTGCATGCCTCAC-1'],\n      dtype=object)), ('gene_name', array([b'MIR1302-10', b'MIR1302-10', b'MIR1302-10', ..., b'MIR1302-10',\n       b'MIR1302-10', b'MIR1302-10'], dtype=object)), ('gene_ensembl_id', array([b'ENSG00000243485', b'ENSG00000243485', b'ENSG00000243485', ...,\n       b'ENSG00000243485', b'ENSG00000243485', b'ENSG00000243485'],\n      dtype=object))])\n"
    }
   ],
   "source": [
    "with tiledb.DenseArray(array_name, mode='r') as A:\n",
    "    print(A[:,0])"
   ]
  },
  {
   "cell_type": "markdown",
   "metadata": {},
   "source": [
    "## Another approach\n",
    "\n",
    "Dumping everything into one dense array isn't the only way to do things. Perhaps more in line with the `AnnData` approach would be to store the core expression matrix `adata.X` as a *sparse* array, and store the row and column labels separately as dense vectors. We can accomplish this using TileDB groups. Since we don't want to write any data where the expression values are zero, we need to find the indices of the non-zero coordinates and their corresponding values."
   ]
  },
  {
   "cell_type": "code",
   "execution_count": 112,
   "metadata": {},
   "outputs": [],
   "source": [
    "group_name = \"3k_pbmc_group\"\n",
    "group_path = Path(group_name)\n",
    "if not group_path.exists():\n",
    "    tiledb.group_create(group_name)\n",
    "counts_array_path = group_path / \"3k_pbmc_counts\"\n",
    "if not counts_array_path.exists():\n",
    "    dom = tiledb.Domain(\n",
    "        tiledb.Dim(name=\"cells\", domain=(0, adata.X.shape[0] - 1), tile=adata.X.shape[0], dtype=np.uint32),\n",
    "        tiledb.Dim(name=\"genes\", domain=(0, adata.X.shape[1] - 1), tile=2, dtype=np.uint32),\n",
    "    )\n",
    "    schema = tiledb.ArraySchema(\n",
    "        domain=dom,\n",
    "        sparse=True,\n",
    "        attrs=(tiledb.Attr(name=\"counts\", dtype=np.uint16,),)\n",
    "    )\n",
    "    tiledb.SparseArray.create(str(counts_array_path), schema)\n",
    "    with tiledb.SparseArray(str(counts_array_path), mode='w') as A:\n",
    "        x, y = np.nonzero(adata.X)\n",
    "        A[x, y] = {\"counts\": adata.X.toarray()[np.nonzero(adata.X)].astype(np.uint16)}"
   ]
  },
  {
   "cell_type": "markdown",
   "metadata": {},
   "source": [
    "Let's also add the barcode and gene metadata to the group. The gene names will have two attributes, one for the gene names and another for the Ensembl IDs. Note that we can drop the `np.tile` since we want to write just a single vector."
   ]
  },
  {
   "cell_type": "code",
   "execution_count": 67,
   "metadata": {},
   "outputs": [],
   "source": [
    "gene_array_name = \"genes\"\n",
    "dom = tiledb.Domain(\n",
    "    tiledb.Dim(name=\"genes\", domain=(0, adata.X.shape[1] - 1), tile=adata.X.shape[1], dtype=np.uint32),\n",
    ")\n",
    "schema = tiledb.ArraySchema(\n",
    "    domain=dom,\n",
    "    sparse=False,\n",
    "    attrs=(\n",
    "        tiledb.Attr(name=\"gene_name\", dtype=np.bytes_, var=True),\n",
    "        tiledb.Attr(name=\"gene_ensembl_id\", dtype=np.bytes_, var=True)\n",
    "    )\n",
    ")\n",
    "gene_array_path = group_path / gene_array_name\n",
    "if not gene_array_path.exists():\n",
    "    tiledb.DenseArray.create(str(gene_array_path), schema)\n",
    "with tiledb.DenseArray(str(gene_array_path), mode='w') as A:\n",
    "    data = {\n",
    "        \"gene_name\": np.array(adata.var_names, dtype=bytes),\n",
    "        \"gene_ensembl_id\": np.array(adata.var.values.flatten(), dtype=bytes),\n",
    "    }\n",
    "    A[:] = data"
   ]
  },
  {
   "cell_type": "markdown",
   "metadata": {},
   "source": [
    "We can do the same with the cell barcodes."
   ]
  },
  {
   "cell_type": "code",
   "execution_count": 68,
   "metadata": {},
   "outputs": [],
   "source": [
    "barcode_array_name = \"cell_barcodes\"\n",
    "barcode_array_path = group_path / barcode_array_name\n",
    "if not barcode_array_path.exists():\n",
    "    dom = tiledb.Domain(\n",
    "        tiledb.Dim(name=\"cell_barcodes\", domain=(0, adata.X.shape[0] - 1), tile=adata.X.shape[0], dtype=np.uint32),\n",
    "    )\n",
    "    schema = tiledb.ArraySchema(\n",
    "        domain=dom,\n",
    "        sparse=False,\n",
    "        attrs=(\n",
    "            tiledb.Attr(name=\"barcodes\", dtype=np.bytes_, var=True),\n",
    "        )\n",
    "    )\n",
    "    tiledb.DenseArray.create(str(barcode_array_path), schema)\n",
    "    with tiledb.DenseArray(str(barcode_array_path), mode='w') as A:\n",
    "        A[:] = {\n",
    "            \"barcodes\": np.array(adata.obs_names, dtype=bytes)\n",
    "        }"
   ]
  },
  {
   "cell_type": "markdown",
   "metadata": {},
   "source": [
    "Now we can see all of the arrays in our group using the TileDB API."
   ]
  },
  {
   "cell_type": "code",
   "execution_count": 69,
   "metadata": {},
   "outputs": [
    {
     "output_type": "stream",
     "name": "stdout",
     "text": "URI: file:///Users/paul/notebooks/tiledb-experiments/notebooks/3k_pbmc_group/3k_pbmc_counts , object type array\nURI: file:///Users/paul/notebooks/tiledb-experiments/notebooks/3k_pbmc_group/cell_barcodes , object type array\nURI: file:///Users/paul/notebooks/tiledb-experiments/notebooks/3k_pbmc_group/genes , object type array\n"
    }
   ],
   "source": [
    "tiledb.ls(group_name, lambda obj_path, obj_type: print(\"URI:\", obj_path, \", object type\", obj_type))"
   ]
  },
  {
   "cell_type": "markdown",
   "metadata": {},
   "source": [
    "The underlying data is still the same as before. However, now the cell and gene attributes aren't stored with the counts, just the expressions. Also note that when we get the data now, only the nonzero expressions are returned."
   ]
  },
  {
   "cell_type": "code",
   "execution_count": 119,
   "metadata": {},
   "outputs": [
    {
     "output_type": "stream",
     "name": "stdout",
     "text": "[ 1  1  2  1  1  1  1 41  1  1  1  1  2  6  1  1  1  1  1  1  2  1 15  1\n  1  1  1  1  1 11  1  1  5  1  1  1  1  1  1  1  1  1  1  1  1  3  2  1\n 15  2  1  1  1  1  1  4  1  1  1  1  1  1  1  2  1  1  1  1  1  1  1 13\n  1  1  1  1  2  1  5  2  2 22  1  1  2  1  1  1  2  6  1  1  1  2  1  1\n  1  1 11  1  1  1  2  1  1  1  1  1  1  1  1  3  1  2  1  2  1  4  1  1\n  1  1 11  1  1  1  1  1  1  1  1  1  2 17  1  8  1 17 11  1  1  1  1  1\n 14  1  2  1  1  1  1  5  1  1  1  1  1  1  2  1  2  1  3  1  1  7  1  2\n  1  1 23  1  1  1  1  1  2  1  2  1  1  1  2  1 13  3  1  2 19  1  1  1\n  3  2  1  5  1  1  1  1  4  7  1  1  1  1  1  2  2  1  1  1  1  1  1 18\n  1  1 15  1  1  5  2  2  1  2  1  1  8  1  1  1  1  1 21  5  5  8  5  1\n  5  2  1  3  1  1  1 22  2  1 10  1  1 10  1  1  1  1  1 19  1  1  3  1\n  1  2  1  1  1  1  1 37  1  1  1  1  1  1  1  1  1  1  1 17  1  1  1  2\n  1  2  3  2  1  1  1  1  1  1  1  1  2  1  1  1  1  1  1  1  1  1  2  1\n 12  1  1 47  1  1  1  1  1  1  1  2  1  1  1 27  1  1  8  3  1  1  1  1\n  1  1  1 34  1  1  1  1  1  1  1  1  2  2  1  4  1 16  1  1  1 12  1  5\n  2  1  2  1  1  7  1  1 10  1 36  1  1  1  1  1  1  1 10  9  1 11  1  2\n  1  1  6  1  1  2  1  1  1  1  1  1  3  1  1  4  1  1  1  4  1  1  1  1\n  1 15  1  1  1  1  1 36  1  1  1  6  1  2  1  1  1  1  1  1  2  1  1  1\n  1  7  2 49  1  5  2  1  1  1  1  1  1  1  1 23  1  1  1  1  1  1  1  2\n  4  1 14  1  1  5  3  2  1  3  2  3  5  1  1  1  1  1  1  2  2  5  1  1\n  4  1  1  1  4  2  1  1  1  3  1  1  1  1  1 10  1  1  5  1  1  1  1  1\n  1 18  1  3 10  1  1  3  1  1  1  2  1  1  1  2  1  2  4  1  1  1  1  1\n  1  2  1  1  1  6  1  1  1 12  1  1  1  3  1  1  1  1  1  1 76  1  1  1\n  1  1  1  1  4  1 19  1  1  1  1  1  1  1  1  1  1  1 44  1  1  1 13  1\n  1  1  1  2  1  1  1  1  2  1  1  1  1  1  2  2  5  1 29  1  1  1  1  1\n  2  1  1  1  3  1 11  2  1  1  1 11  1 18 15  1  1  1  7  1  1  5  1  1\n  1  1  2  1  1  1  1  1  1  4  1  1  3  1  1  4  1  1  1  1  1  1  1  1\n  2  2  1  1  1  1 14  1  1  2  1  1  1  1  1  1  1  1  1  1  1  1  1  1\n  3  1  1  1  1  1  1  1 22  1  5  1  1  1  1  8  1  1  1  4  1  1  1  1\n  2  1  1  3 10 19  4  1  5  1 18  1  5  1  1  1  5  1  1  2  1  1  2  5\n  1 22  1  1  1  1  2  1  4  1 12  2  1 37  1  1  1  1  1  7 28 10  5  1\n  2  1  1  1  1  1  1  1  1  1  1  2  2  1  1 25  1  1  1  1  1  1  1  1\n  1  1  1  8  3 25 10  6  5  1 10  1  4]\n"
    }
   ],
   "source": [
    "with tiledb.SparseArray(str(counts_array_path), \"r\") as A:\n",
    "    print(A[0,:][\"counts\"])"
   ]
  }
 ]
}